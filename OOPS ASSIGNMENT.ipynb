{
 "cells": [
  {
   "cell_type": "markdown",
   "id": "cb50db56-de41-4beb-b7b8-e1340cf8bc69",
   "metadata": {},
   "source": [
    "1.What is Object-Oriented Programming (OOP)?\n",
    "ANSWERS-OOP is a way of writing programs using objects (real-life things) that have data (variables) and behavior (functions).\n",
    "\n",
    "2.What is a class in OOP?\n",
    "ANSWER-A class is like a blueprint for creating objects.\n",
    "\n",
    "3.What is an object in OOP?\n",
    "ANSWER-An object is a real example created from a class.\n",
    "\n",
    "4.Difference between abstraction and encapsulation?\n",
    "ANSWER-Abstraction = Hiding details, showing only what is needed.\n",
    "\n",
    "       Encapsulation = Binding variables and methods inside a class and controlling access.\n",
    "\n",
    "5.What are dunder methods in Python?\n",
    "Dunder methods = special methods with double underscores (like __init__, __str__).\n",
    "\n",
    "6.Explain inheritance in OOP.\n",
    "ANSWER-Inheritance means a class can use features of another class.\n",
    "\n",
    "7.What is polymorphism in OOP?\n",
    "ANSWER-Polymorphism means same function name works in different ways.\n",
    "\n",
    "8.How is encapsulation achieved in Python?\n",
    "ANSWER-By making variables private (using _ or __) and using methods to access them.\n",
    "\n",
    "9.What is a constructor in Python?\n",
    "ANSWER-A constructor (__init__) is a method that runs automatically when an object is created.\n",
    "\n",
    "10.What are class and static methods in Python?\n",
    "\n",
    "ANSWER-Class method → belongs to class, works with class data (@classmethod).\n",
    "\n",
    "       Static method → simple function inside class, does not use class or object (@staticmethod).\n",
    "\n",
    "11.What is method overloading in Python?\n",
    "ANSWER-Having the same method name but working with different number of arguments.\n",
    "\n",
    "12.What is method overriding in OOP?\n",
    "ANSWER-When a child class changes a method from the parent class.\n",
    "\n",
    "13.What is a property decorator in Python?\n",
    "ANSWER-@property is used to access a method like a variable.\n",
    "\n",
    "14.Why is polymorphism important in OOP?\n",
    "ANSWER-It makes code flexible and reusable.\n",
    "\n",
    "15.What is an abstract class in Python?\n",
    "ANSWER-A class that cannot create objects and has abstract methods.\n",
    "\n",
    "16.What are the advantages of OOP?\n",
    "\n",
    "ANSWER-Reusability\n",
    "\n",
    "       Easy to maintain\n",
    "\n",
    "       Organized code\n",
    "\n",
    "       Real-world modeling\n",
    "\n",
    "17.Difference between class variable and instance variable?\n",
    "\n",
    "ANSWER-Class variable = shared by all objects.\n",
    "\n",
    "      Instance variable = belongs to each object separately.\n",
    "\n",
    "18.What is multiple inheritance in Python?\n",
    "ANSWER-A class can inherit from more than one class.\n",
    "\n",
    "19.Purpose of __str__ and __repr__methods in Python?\n",
    "ANSWER-__str__user-friendly string.\n",
    "\n",
    "       __repr__developer-friendly string.\n",
    "\n",
    "20.Significance of super() function in Python?\n",
    "ANSWER-super() is used to call parent class methods in child class.\n",
    "\n",
    "21.Significance of__del__method in Python?\n",
    "ANSWER-It is a destructor method, runs when an object is deleted.\n",
    "\n",
    "22.Difference between @staticmethod and @classmethod in Python?\n",
    "\n",
    "ANSWER-@staticmethod → no class or object used.\n",
    "\n",
    "       @classmethod → uses class reference (cls).\n",
    "\n",
    "23.How does polymorphism work in Python with inheritance?\n",
    "ANSWER-A child class can override methods, and Python decides which version to run at runtime.\n",
    "\n",
    "24.What is method chaining in Python OOP?\n",
    "ANSWER-Calling multiple methods in a single line because each method returns the object itself.\n",
    "\n",
    "25.What is the purpose of the __call__ method in Python?\n",
    "ANSWER-Allows an object to be used like a function.\n"
   ]
  },
  {
   "cell_type": "code",
   "execution_count": 1,
   "id": "e7a406e2-4f1a-408e-a5b8-18d81117a10e",
   "metadata": {},
   "outputs": [
    {
     "name": "stdout",
     "output_type": "stream",
     "text": [
      "Bark!\n"
     ]
    }
   ],
   "source": [
    "#Q1. Animal & Dog (Inheritance + Overriding)\n",
    "class Animal:\n",
    "    def speak(self):\n",
    "        print(\"This is an animal sound.\")\n",
    "\n",
    "class Dog(Animal):\n",
    "    def speak(self):\n",
    "        print(\"Bark!\")\n",
    "\n",
    "d = Dog()\n",
    "d.speak()\n"
   ]
  },
  {
   "cell_type": "code",
   "execution_count": 2,
   "id": "21c7bc06-fa65-4c44-8d8c-15f835463548",
   "metadata": {},
   "outputs": [
    {
     "name": "stdout",
     "output_type": "stream",
     "text": [
      "78.5\n",
      "24\n"
     ]
    }
   ],
   "source": [
    "#Q2. Abstract Class Shape\n",
    "from abc import ABC, abstractmethod\n",
    "\n",
    "class Shape(ABC):\n",
    "    @abstractmethod\n",
    "    def area(self):\n",
    "        pass\n",
    "\n",
    "class Circle(Shape):\n",
    "    def __init__(self, r):\n",
    "        self.r = r\n",
    "    def area(self):\n",
    "        return 3.14 * self.r * self.r\n",
    "\n",
    "class Rectangle(Shape):\n",
    "    def __init__(self, l, w):\n",
    "        self.l = l\n",
    "        self.w = w\n",
    "    def area(self):\n",
    "        return self.l * self.w\n",
    "\n",
    "c = Circle(5)\n",
    "print(c.area())\n",
    "r = Rectangle(4, 6)\n",
    "print(r.area())\n"
   ]
  },
  {
   "cell_type": "code",
   "execution_count": 3,
   "id": "be1f2c84-c14b-4ada-83c9-aa199ab4729a",
   "metadata": {},
   "outputs": [
    {
     "name": "stdout",
     "output_type": "stream",
     "text": [
      "4-wheeler Tesla 100 kWh\n"
     ]
    }
   ],
   "source": [
    "#Q3. Multi-level Inheritance (Vehicle → Car → ElectricCar)\n",
    "class Vehicle:\n",
    "    def __init__(self, type):\n",
    "        self.type = type\n",
    "\n",
    "class Car(Vehicle):\n",
    "    def __init__(self, type, brand):\n",
    "        super().__init__(type)\n",
    "        self.brand = brand\n",
    "\n",
    "class ElectricCar(Car):\n",
    "    def __init__(self, type, brand, battery):\n",
    "        super().__init__(type, brand)\n",
    "        self.battery = battery\n",
    "\n",
    "ec = ElectricCar(\"4-wheeler\", \"Tesla\", \"100 kWh\")\n",
    "print(ec.type, ec.brand, ec.battery)\n"
   ]
  },
  {
   "cell_type": "code",
   "execution_count": 4,
   "id": "b7632598-6bc1-4265-819f-450ef462a06c",
   "metadata": {},
   "outputs": [
    {
     "name": "stdout",
     "output_type": "stream",
     "text": [
      "Sparrow flies high.\n",
      "Penguin cannot fly.\n"
     ]
    }
   ],
   "source": [
    "#Q4. Polymorphism (Bird Example)\n",
    "class Bird:\n",
    "    def fly(self):\n",
    "        print(\"Some birds can fly.\")\n",
    "\n",
    "class Sparrow(Bird):\n",
    "    def fly(self):\n",
    "        print(\"Sparrow flies high.\")\n",
    "\n",
    "class Penguin(Bird):\n",
    "    def fly(self):\n",
    "        print(\"Penguin cannot fly.\")\n",
    "\n",
    "b = [Sparrow(), Penguin()]\n",
    "for bird in b:\n",
    "    bird.fly()\n"
   ]
  },
  {
   "cell_type": "code",
   "execution_count": 5,
   "id": "f77bdc86-7c95-4e2c-80dc-a6a1239f68c5",
   "metadata": {},
   "outputs": [
    {
     "name": "stdout",
     "output_type": "stream",
     "text": [
      "1300\n"
     ]
    }
   ],
   "source": [
    "#Q5. Encapsulation (BankAccount)\n",
    "class BankAccount:\n",
    "    def __init__(self, balance=0):\n",
    "        self.__balance = balance\n",
    "\n",
    "    def deposit(self, amount):\n",
    "        self.__balance += amount\n",
    "\n",
    "    def withdraw(self, amount):\n",
    "        if amount <= self.__balance:\n",
    "            self.__balance -= amount\n",
    "        else:\n",
    "            print(\"Not enough balance\")\n",
    "\n",
    "    def check_balance(self):\n",
    "        return self.__balance\n",
    "\n",
    "acc = BankAccount(1000)\n",
    "acc.deposit(500)\n",
    "acc.withdraw(200)\n",
    "print(acc.check_balance())\n"
   ]
  },
  {
   "cell_type": "code",
   "execution_count": 6,
   "id": "2c4c5cbd-1139-4f1f-a802-f16a03ded362",
   "metadata": {},
   "outputs": [
    {
     "name": "stdout",
     "output_type": "stream",
     "text": [
      "Guitar is playing music.\n",
      "Piano is playing melody.\n"
     ]
    }
   ],
   "source": [
    "#Q6. Runtime Polymorphism (Instrument Example)\n",
    "class Instrument:\n",
    "    def play(self):\n",
    "        print(\"Instrument is playing sound.\")\n",
    "\n",
    "class Guitar(Instrument):\n",
    "    def play(self):\n",
    "        print(\"Guitar is playing music.\")\n",
    "\n",
    "class Piano(Instrument):\n",
    "    def play(self):\n",
    "        print(\"Piano is playing melody.\")\n",
    "\n",
    "i = [Guitar(), Piano()]\n",
    "for instrument in i:\n",
    "    instrument.play()\n"
   ]
  },
  {
   "cell_type": "code",
   "execution_count": 7,
   "id": "78350252-3213-4f3a-85f0-e70e915b887a",
   "metadata": {},
   "outputs": [
    {
     "name": "stdout",
     "output_type": "stream",
     "text": [
      "8\n",
      "6\n"
     ]
    }
   ],
   "source": [
    "#Q7. MathOperations (Class & Static Method)\n",
    "class MathOperations:\n",
    "    @classmethod\n",
    "    def add_numbers(cls, a, b):\n",
    "        return a + b\n",
    "\n",
    "    @staticmethod\n",
    "    def subtract_numbers(a, b):\n",
    "        return a - b\n",
    "\n",
    "print(MathOperations.add_numbers(5, 3))\n",
    "print(MathOperations.subtract_numbers(10, 4))\n"
   ]
  },
  {
   "cell_type": "code",
   "execution_count": 8,
   "id": "2cf6d4c3-3b2a-4884-bd19-f38af44a946a",
   "metadata": {},
   "outputs": [
    {
     "name": "stdout",
     "output_type": "stream",
     "text": [
      "2\n"
     ]
    }
   ],
   "source": [
    "#Q8. Count Total Persons Created\n",
    "class Person:\n",
    "    count = 0  # class variable\n",
    "\n",
    "    def __init__(self, name):\n",
    "        self.name = name\n",
    "        Person.count += 1\n",
    "\n",
    "    @classmethod\n",
    "    def total_persons(cls):\n",
    "        return cls.count\n",
    "\n",
    "p1 = Person(\"Ali\")\n",
    "p2 = Person(\"Sara\")\n",
    "print(Person.total_persons())\n"
   ]
  },
  {
   "cell_type": "code",
   "execution_count": 9,
   "id": "cd3782de-a8a3-4265-9b6c-1c48de0b4938",
   "metadata": {},
   "outputs": [
    {
     "name": "stdout",
     "output_type": "stream",
     "text": [
      "3/4\n"
     ]
    }
   ],
   "source": [
    "#Q9. Fraction with __str__\n",
    "class Fraction:\n",
    "    def __init__(self, numerator, denominator):\n",
    "        self.numerator = numerator\n",
    "        self.denominator = denominator\n",
    "\n",
    "    def __str__(self):\n",
    "        return f\"{self.numerator}/{self.denominator}\"\n",
    "\n",
    "f = Fraction(3, 4)\n",
    "print(f)\n"
   ]
  },
  {
   "cell_type": "code",
   "execution_count": 10,
   "id": "c31c3167-77f0-4e04-a27b-135c9313d6eb",
   "metadata": {},
   "outputs": [
    {
     "name": "stdout",
     "output_type": "stream",
     "text": [
      "(5, 9)\n"
     ]
    }
   ],
   "source": [
    "#Q10. Operator Overloading (Vector Addition)\n",
    "class Vector:\n",
    "    def __init__(self, x, y):\n",
    "        self.x = x\n",
    "        self.y = y\n",
    "\n",
    "    def __add__(self, other):\n",
    "        return Vector(self.x + other.x, self.y + other.y)\n",
    "\n",
    "    def __str__(self):\n",
    "        return f\"({self.x}, {self.y})\"\n",
    "\n",
    "v1 = Vector(2, 4)\n",
    "v2 = Vector(3, 5)\n",
    "print(v1 + v2)\n"
   ]
  },
  {
   "cell_type": "code",
   "execution_count": 12,
   "id": "a30e2653-4796-4a46-a31d-1cf38297ed5f",
   "metadata": {},
   "outputs": [
    {
     "name": "stdout",
     "output_type": "stream",
     "text": [
      "Hello, my name is masood and I am 22 years old.\n"
     ]
    }
   ],
   "source": [
    "#Q11. Person with Greet Method\n",
    "class Person:\n",
    "    def __init__(self, name, age):\n",
    "        self.name = name\n",
    "        self.age = age\n",
    "\n",
    "    def greet(self):\n",
    "        print(f\"Hello, my name is {self.name} and I am {self.age} years old.\")\n",
    "\n",
    "p = Person(\"masood\", 22)\n",
    "p.greet()\n"
   ]
  },
  {
   "cell_type": "code",
   "execution_count": 13,
   "id": "938c8b45-28ab-4536-8b24-8a89d715ef70",
   "metadata": {},
   "outputs": [
    {
     "name": "stdout",
     "output_type": "stream",
     "text": [
      "80.0\n"
     ]
    }
   ],
   "source": [
    "#Q12. Student with Average Grade\n",
    "class Student:\n",
    "    def __init__(self, name, grades):\n",
    "        self.name = name\n",
    "        self.grades = grades\n",
    "\n",
    "    def average_grade(self):\n",
    "        return sum(self.grades) / len(self.grades)\n",
    "\n",
    "s = Student(\"Ayesha\", [90, 80, 70])\n",
    "print(s.average_grade())\n"
   ]
  },
  {
   "cell_type": "code",
   "execution_count": 16,
   "id": "7ecc1c03-fb3e-415f-9320-d7b8e6ba5c30",
   "metadata": {},
   "outputs": [
    {
     "name": "stdout",
     "output_type": "stream",
     "text": [
      "15\n"
     ]
    }
   ],
   "source": [
    "#Q13. Rectangle with Area\n",
    "class Rectangle:\n",
    "    def set_dimensions(self, length, width):\n",
    "        self.length = length\n",
    "        self.width = width\n",
    "\n",
    "    def area(self):\n",
    "        return self.length * self.width\n",
    "\n",
    "r = Rectangle()\n",
    "r.set_dimensions(5, 3)\n",
    "print(r.area())\n"
   ]
  },
  {
   "cell_type": "code",
   "execution_count": 17,
   "id": "b6459d2d-263c-4a51-914f-495af1f8e999",
   "metadata": {},
   "outputs": [
    {
     "name": "stdout",
     "output_type": "stream",
     "text": [
      "2500\n"
     ]
    }
   ],
   "source": [
    "#Q14. Employee & Manager (Inheritance + Salary)\n",
    "class Employee:\n",
    "    def __init__(self, hours, rate):\n",
    "        self.hours = hours\n",
    "        self.rate = rate\n",
    "\n",
    "    def calculate_salary(self):\n",
    "        return self.hours * self.rate\n",
    "\n",
    "class Manager(Employee):\n",
    "    def __init__(self, hours, rate, bonus):\n",
    "        super().__init__(hours, rate)\n",
    "        self.bonus = bonus\n",
    "\n",
    "    def calculate_salary(self):\n",
    "        return super().calculate_salary() + self.bonus\n",
    "\n",
    "m = Manager(40, 50, 500)\n",
    "print(m.calculate_salary())\n"
   ]
  },
  {
   "cell_type": "code",
   "execution_count": 18,
   "id": "2105e550-f892-4b46-8f3a-58a84fa27361",
   "metadata": {},
   "outputs": [
    {
     "name": "stdout",
     "output_type": "stream",
     "text": [
      "100000\n"
     ]
    }
   ],
   "source": [
    "#Q15. Product with Total Price\n",
    "class Product:\n",
    "    def __init__(self, name, price, quantity):\n",
    "        self.name = name\n",
    "        self.price = price\n",
    "        self.quantity = quantity\n",
    "\n",
    "    def total_price(self):\n",
    "        return self.price * self.quantity\n",
    "\n",
    "p = Product(\"Laptop\", 50000, 2)\n",
    "print(p.total_price())\n"
   ]
  },
  {
   "cell_type": "code",
   "execution_count": 19,
   "id": "e24a9e74-e806-4ab5-b2f5-9ed9f26c8843",
   "metadata": {},
   "outputs": [
    {
     "name": "stdout",
     "output_type": "stream",
     "text": [
      "Moo\n",
      "Baa\n"
     ]
    }
   ],
   "source": [
    "#Q16. Abstract Animal (Cow & Sheep)\n",
    "from abc import ABC, abstractmethod\n",
    "\n",
    "class Animal(ABC):\n",
    "    @abstractmethod\n",
    "    def sound(self):\n",
    "        pass\n",
    "\n",
    "class Cow(Animal):\n",
    "    def sound(self):\n",
    "        return \"Moo\"\n",
    "\n",
    "class Sheep(Animal):\n",
    "    def sound(self):\n",
    "        return \"Baa\"\n",
    "\n",
    "c = Cow()\n",
    "s = Sheep()\n",
    "print(c.sound())\n",
    "print(s.sound())\n"
   ]
  },
  {
   "cell_type": "code",
   "execution_count": 20,
   "id": "fb4bf6fc-916c-4cce-abc4-85f466f3d98e",
   "metadata": {},
   "outputs": [
    {
     "name": "stdout",
     "output_type": "stream",
     "text": [
      "Python Basics by John Smith, published in 2022\n"
     ]
    }
   ],
   "source": [
    "#Q17. Book with Details\n",
    "class Book:\n",
    "    def __init__(self, title, author, year):\n",
    "        self.title = title\n",
    "        self.author = author\n",
    "        self.year = year\n",
    "\n",
    "    def get_book_info(self):\n",
    "        return f\"{self.title} by {self.author}, published in {self.year}\"\n",
    "\n",
    "b = Book(\"Python Basics\", \"John Smith\", 2022)\n",
    "print(b.get_book_info())\n"
   ]
  },
  {
   "cell_type": "code",
   "execution_count": 21,
   "id": "13192171-9313-48cd-9aae-53a68f9b2030",
   "metadata": {},
   "outputs": [
    {
     "name": "stdout",
     "output_type": "stream",
     "text": [
      "Mumbai 50000000 20\n"
     ]
    }
   ],
   "source": [
    "#Q18. House → Mansion (Inheritance)\n",
    "class House:\n",
    "    def __init__(self, address, price):\n",
    "        self.address = address\n",
    "        self.price = price\n",
    "\n",
    "class Mansion(House):\n",
    "    def __init__(self, address, price, rooms):\n",
    "        super().__init__(address, price)\n",
    "        self.rooms = rooms\n",
    "\n",
    "m = Mansion(\"Mumbai\", 50000000, 20)\n",
    "print(m.address, m.price, m.rooms)\n"
   ]
  },
  {
   "cell_type": "code",
   "execution_count": null,
   "id": "8c748d62-014f-4b46-bc3b-0b96535a8d62",
   "metadata": {},
   "outputs": [],
   "source": []
  }
 ],
 "metadata": {
  "kernelspec": {
   "display_name": "Python 3 (ipykernel)",
   "language": "python",
   "name": "python3"
  },
  "language_info": {
   "codemirror_mode": {
    "name": "ipython",
    "version": 3
   },
   "file_extension": ".py",
   "mimetype": "text/x-python",
   "name": "python",
   "nbconvert_exporter": "python",
   "pygments_lexer": "ipython3",
   "version": "3.13.7"
  }
 },
 "nbformat": 4,
 "nbformat_minor": 5
}
